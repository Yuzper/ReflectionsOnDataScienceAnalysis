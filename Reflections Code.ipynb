{
 "cells": [
  {
   "cell_type": "code",
   "execution_count": 21,
   "metadata": {},
   "outputs": [],
   "source": [
    "import numpy as np\n",
    "from PIL import Image\n",
    "from collections import Counter\n",
    "import matplotlib.pyplot as plt"
   ]
  },
  {
   "cell_type": "code",
   "execution_count": 22,
   "metadata": {},
   "outputs": [],
   "source": [
    "image_path = \"data_coal_subset.PNG\"\n",
    "image = Image.open(image_path)\n",
    "\n",
    "# Convert the image to a NumPy array\n",
    "image_array = np.array(image)"
   ]
  },
  {
   "cell_type": "code",
   "execution_count": 23,
   "metadata": {},
   "outputs": [],
   "source": [
    "# https://www.reddit.com/r/dataisbeautiful/comments/13pggsx/oc_electricity_production_from_coal_is_growing/"
   ]
  },
  {
   "cell_type": "markdown",
   "metadata": {},
   "source": [
    "# Calculating the pixels in each bar"
   ]
  },
  {
   "cell_type": "markdown",
   "metadata": {},
   "source": [
    "Since I don't have the actual data for the graph I have estimated it with pixel values, which are calculated below."
   ]
  },
  {
   "cell_type": "code",
   "execution_count": 24,
   "metadata": {},
   "outputs": [
    {
     "data": {
      "text/plain": [
       "Counter({(44, 44, 44, 255): 460,\n",
       "         (0, 138, 60, 255): 124,\n",
       "         (114, 171, 248, 255): 25,\n",
       "         (249, 224, 6, 255): 3})"
      ]
     },
     "execution_count": 24,
     "metadata": {},
     "output_type": "execute_result"
    }
   ],
   "source": [
    "# [255, 255, 255, 255] = White\n",
    "# [0, 0, 0, 0]\n",
    "# Indexing row first column second\n",
    "\n",
    "bars = [] # index 0 = year 2021, index 1 = year 2020 etc\n",
    "\n",
    "years = 10 # MAX 23!!!\n",
    "\n",
    "for year in range(years):\n",
    "    t = 917 # Buttom of bars\n",
    "    colors = []\n",
    "    white = 255\n",
    "    # Column dif -35\n",
    "    index = -30-(35*year)\n",
    "    for i in range(1000):\n",
    "        pixel = list(image_array[t-i][index])\n",
    "        if pixel[0] == white and pixel[1] == white and pixel[2] == white and pixel[3] == white:\n",
    "            break\n",
    "        else:\n",
    "            colors.append(pixel)\n",
    "            image_array[t-i][index] = [255,50,100,255] # Draws a line on the plot\n",
    "        \n",
    "\n",
    "\n",
    "\n",
    "    manipulated_image_array = image_array\n",
    "    manipulated_image = Image.fromarray(manipulated_image_array.astype(np.uint8))\n",
    "    \n",
    "    # Save the manipulated image\n",
    "    output_path = \"data_coal_subset_MANIPULATED.PNG\"\n",
    "    manipulated_image.save(output_path)\n",
    "\n",
    "    \n",
    "    \n",
    "\n",
    "    color_counts = Counter(map(tuple, colors))\n",
    "\n",
    "    # Remove keys with a value of 1\n",
    "    color_counts = Counter({key: count for key, count in color_counts.items() if count != 1})\n",
    "    bars.append(color_counts)\n",
    "\n",
    "color_counts"
   ]
  },
  {
   "cell_type": "code",
   "execution_count": 25,
   "metadata": {},
   "outputs": [],
   "source": [
    "# The color for each power type in the graph\n",
    "coal = (44, 44, 44, 255)\n",
    "nuclear =  (0, 138, 60, 255)\n",
    "wind = (114, 171, 248, 255)\n",
    "solar = (249, 224, 6, 255)"
   ]
  },
  {
   "cell_type": "code",
   "execution_count": 26,
   "metadata": {},
   "outputs": [
    {
     "data": {
      "text/plain": [
       "10"
      ]
     },
     "execution_count": 26,
     "metadata": {},
     "output_type": "execute_result"
    }
   ],
   "source": [
    "barsData = bars.copy()\n",
    "len(barsData)"
   ]
  },
  {
   "cell_type": "markdown",
   "metadata": {},
   "source": [
    "# Regression Line for Absolute Pixel Values"
   ]
  },
  {
   "cell_type": "code",
   "execution_count": 30,
   "metadata": {},
   "outputs": [],
   "source": [
    "new_coal = []\n",
    "new_nuclear = []\n",
    "new_wind = []\n",
    "new_solar = []\n",
    "\n",
    "for i in barsData:\n",
    "#    print(i[coal])\n",
    "    new_coal.append(i[coal])\n",
    "    new_nuclear.append(i[nuclear])\n",
    "    new_wind.append(i[wind])\n",
    "    new_solar.append(i[solar])\n",
    "\n",
    "# I have to reverse the order since how the data was collected it started from the 2021 bar and then went down.\n",
    "new_coal.reverse()\n",
    "new_nuclear.reverse()\n",
    "new_wind.reverse()\n",
    "new_solar.reverse()\n"
   ]
  },
  {
   "cell_type": "code",
   "execution_count": 31,
   "metadata": {},
   "outputs": [
    {
     "data": {
      "image/png": "[encoded data removed]",
      "text/plain": [
       "<Figure size 432x288 with 1 Axes>"
      ]
     },
     "metadata": {
      "needs_background": "light"
     },
     "output_type": "display_data"
    }
   ],
   "source": [
    "x_coal = list(range(len(new_coal)))\n",
    "y_coal = new_coal\n",
    "\n",
    "x_nuclear = list(range(len(new_nuclear)))\n",
    "y_nuclear = new_nuclear\n",
    "\n",
    "x_wind = list(range(len(new_wind)))\n",
    "y_wind = new_wind\n",
    "\n",
    "x_solar = list(range(len(new_solar)))\n",
    "y_solar = new_solar\n",
    "\n",
    "\n",
    "# Calculate the regression line\n",
    "# Coal\n",
    "coefficients_coal = np.polyfit(x_coal, y_coal, 1)\n",
    "slope_coal, intercept_coal = coefficients_coal\n",
    "regression_line_coal = slope_coal * np.array(x_coal) + intercept_coal\n",
    "\n",
    "# Nuclear\n",
    "coefficients_nuclear = np.polyfit(x_nuclear, y_nuclear, 1)\n",
    "slope_nuclear, intercept_nuclear = coefficients_nuclear\n",
    "regression_line_nuclear = slope_nuclear * np.array(x_nuclear) + intercept_nuclear\n",
    "\n",
    "# Wind\n",
    "coefficients_wind = np.polyfit(x_wind, y_wind, 1)\n",
    "slope_wind, intercept_wind = coefficients_wind\n",
    "regression_line_wind = slope_wind * np.array(x_wind) + intercept_wind\n",
    "\n",
    "# Solar\n",
    "coefficients_solar = np.polyfit(x_solar, y_solar, 1)\n",
    "slope_solar, intercept_solar = coefficients_solar\n",
    "regression_line_solar = slope_solar * np.array(x_solar) + intercept_solar\n",
    "\n",
    "\n",
    "# Create scatter plots for each power type\n",
    "plt.scatter(x_coal, y_coal, color=\"black\")\n",
    "plt.scatter(x_nuclear, y_nuclear, color=\"green\")\n",
    "plt.scatter(x_wind, y_wind, color=\"blue\")\n",
    "plt.scatter(x_solar, y_solar, color=\"yellow\")\n",
    "\n",
    "# Plot regression lines for each power type\n",
    "plt.plot(x_coal, regression_line_coal, color=\"black\", label=\"Regression Line Coal\")\n",
    "plt.plot(x_nuclear, regression_line_nuclear, color=\"green\", label=\"Regression Line Nuclear\")\n",
    "plt.plot(x_wind, regression_line_wind, color=\"blue\", label=\"Regression Line Wind\")\n",
    "plt.plot(x_solar, regression_line_solar, color=\"yellow\", label=\"Regression Line Solar\")\n",
    "\n",
    "plt.xlabel(\"X-axis\")\n",
    "plt.ylabel(\"Y-axis\")\n",
    "plt.title(\"Absolute Regression Lines\")\n",
    "plt.legend()\n",
    "plt.show()"
   ]
  },
  {
   "cell_type": "code",
   "execution_count": 32,
   "metadata": {},
   "outputs": [
    {
     "name": "stdout",
     "output_type": "stream",
     "text": [
      "Coal Slope: 4.648484848484851\n",
      "Nuclear Slope: 1.8242424242424304\n",
      "Wind Slope: 7.375757575757577\n",
      "Solar Slope: 5.3999999999999995\n"
     ]
    }
   ],
   "source": [
    "print(\"Coal Slope:\",slope_coal)\n",
    "print(\"Nuclear Slope:\",slope_nuclear)\n",
    "print(\"Wind Slope:\",slope_wind)\n",
    "print(\"Solar Slope:\",slope_solar)"
   ]
  },
  {
   "cell_type": "code",
   "execution_count": null,
   "metadata": {},
   "outputs": [],
   "source": []
  },
  {
   "cell_type": "markdown",
   "metadata": {},
   "source": [
    "# Data Visualization of diff"
   ]
  },
  {
   "cell_type": "code",
   "execution_count": 10,
   "metadata": {},
   "outputs": [
    {
     "data": {
      "image/png": "[encoded data removed]",
      "text/plain": [
       "<Figure size 432x288 with 1 Axes>"
      ]
     },
     "metadata": {
      "needs_background": "light"
     },
     "output_type": "display_data"
    }
   ],
   "source": [
    "# Could be written cleanere...\n",
    "powers = [coal, nuclear, wind, solar]\n",
    "\n",
    "coal_dif = []\n",
    "for i in range(len(barsData)):\n",
    "    if i == len(barsData)-1:\n",
    "        break\n",
    "    dif = barsData[i][coal] - barsData[i+1][coal]\n",
    "    coal_dif.append(dif)\n",
    "coal_dif.reverse()\n",
    "\n",
    "nuclear_dif = []\n",
    "for i in range(len(barsData)):\n",
    "    if i == len(barsData)-1:\n",
    "        break\n",
    "    dif = barsData[i][nuclear] - barsData[i+1][nuclear]\n",
    "    nuclear_dif.append(dif)\n",
    "nuclear_dif.reverse()\n",
    "\n",
    "wind_dif = []\n",
    "for i in range(len(barsData)):\n",
    "    if i == len(barsData)-1:\n",
    "        break\n",
    "    dif = barsData[i][wind] - barsData[i+1][wind]\n",
    "    wind_dif.append(dif)\n",
    "wind_dif.reverse()\n",
    "\n",
    "solar_dif = []\n",
    "for i in range(len(barsData)):\n",
    "    if i == len(barsData)-1:\n",
    "        break\n",
    "    dif = barsData[i][solar] - barsData[i+1][solar]\n",
    "    solar_dif.append(dif)\n",
    "solar_dif.reverse()\n",
    "\n",
    "    \n",
    "\n",
    "# Create x-axis values (assumed to be sequential integers)\n",
    "x_values = range(len(coal_dif))\n",
    "\n",
    "# Create the line chart with four lines\n",
    "plt.plot(x_values, coal_dif, label=\"Coal\")\n",
    "plt.plot(x_values, nuclear_dif, label=\"Nuclear\")\n",
    "plt.plot(x_values, wind_dif, label=\"Wind\")\n",
    "plt.plot(x_values, solar_dif, label=\"Solar\")\n",
    "\n",
    "# Add labels and title\n",
    "plt.xlabel('X-axis')\n",
    "plt.ylabel('Y-axis')\n",
    "plt.title('Multiple Line Chart')\n",
    "\n",
    "# Display the legend\n",
    "plt.legend()\n",
    "\n",
    "# Display the chart\n",
    "plt.show()"
   ]
  },
  {
   "cell_type": "code",
   "execution_count": 11,
   "metadata": {},
   "outputs": [
    {
     "name": "stdout",
     "output_type": "stream",
     "text": [
      "Coal: 11.105263157894736\n",
      "Nuclear: 0.3157894736842105\n",
      "Wind: 4.947368421052632\n",
      "Solar: 2.789473684210526\n"
     ]
    }
   ],
   "source": [
    "print(\"Coal:\",sum(coal_dif)/len(coal_dif))\n",
    "print(\"Nuclear:\",sum(nuclear_dif)/len(nuclear_dif))\n",
    "print(\"Wind:\",sum(wind_dif)/len(wind_dif))\n",
    "print(\"Solar:\",sum(solar_dif)/len(solar_dif))\n"
   ]
  },
  {
   "cell_type": "markdown",
   "metadata": {},
   "source": [
    "# Regression Line for diff Pixel Values"
   ]
  },
  {
   "cell_type": "code",
   "execution_count": 12,
   "metadata": {},
   "outputs": [
    {
     "data": {
      "image/png": "[encoded data removed]",
      "text/plain": [
       "<Figure size 432x288 with 1 Axes>"
      ]
     },
     "metadata": {
      "needs_background": "light"
     },
     "output_type": "display_data"
    }
   ],
   "source": [
    "x_coal = list(range(len(coal_dif)))\n",
    "y_coal = coal_dif\n",
    "\n",
    "x_nuclear = list(range(len(nuclear_dif)))\n",
    "y_nuclear = nuclear_dif\n",
    "\n",
    "x_wind = list(range(len(wind_dif)))\n",
    "y_wind = wind_dif\n",
    "\n",
    "x_solar = list(range(len(solar_dif)))\n",
    "y_solar = solar_dif\n",
    "\n",
    "\n",
    "# Calculate the regression line\n",
    "# Coal\n",
    "coefficients_coal = np.polyfit(x_coal, y_coal, 1)\n",
    "slope_coal, intercept_coal = coefficients_coal\n",
    "regression_line_coal = slope_coal * np.array(x_coal) + intercept_coal\n",
    "\n",
    "# Nuclear\n",
    "coefficients_nuclear = np.polyfit(x_nuclear, y_nuclear, 1)\n",
    "slope_nuclear, intercept_nuclear = coefficients_nuclear\n",
    "regression_line_nuclear = slope_nuclear * np.array(x_nuclear) + intercept_nuclear\n",
    "\n",
    "# Wind\n",
    "coefficients_wind = np.polyfit(x_wind, y_wind, 1)\n",
    "slope_wind, intercept_wind = coefficients_wind\n",
    "regression_line_wind = slope_wind * np.array(x_wind) + intercept_wind\n",
    "\n",
    "# Solar\n",
    "coefficients_solar = np.polyfit(x_solar, y_solar, 1)\n",
    "slope_solar, intercept_solar = coefficients_solar\n",
    "regression_line_solar = slope_solar * np.array(x_solar) + intercept_solar\n",
    "\n",
    "\n",
    "# Create scatter plots for each power type\n",
    "#plt.scatter(x_coal, y_coal, color=\"black\", label=\"Coal\")\n",
    "#plt.scatter(x_nuclear, y_nuclear, color=\"green\", label=\"Nuclear\")\n",
    "#plt.scatter(x_wind, y_wind, color=\"blue\", label=\"Wind\")\n",
    "#plt.scatter(x_solar, y_solar, color=\"yellow\", label=\"Solar\")\n",
    "\n",
    "# Plot regression lines for each power type\n",
    "plt.plot(x_coal, regression_line_coal, color=\"black\", label=\"Regression Line Coal_dif\")\n",
    "plt.plot(x_nuclear, regression_line_nuclear, color=\"green\", label=\"Regression Line Nuclear_dif\")\n",
    "plt.plot(x_wind, regression_line_wind, color=\"blue\", label=\"Regression Line Wind_dif\")\n",
    "plt.plot(x_solar, regression_line_solar, color=\"yellow\", label=\"Regression Line Solar_dif\")\n",
    "\n",
    "plt.xlabel(\"X-axis\")\n",
    "plt.ylabel(\"Y-axis\")\n",
    "plt.title(\"Dif Regression Lines\")\n",
    "plt.legend()\n",
    "plt.show()"
   ]
  },
  {
   "cell_type": "code",
   "execution_count": 13,
   "metadata": {},
   "outputs": [
    {
     "name": "stdout",
     "output_type": "stream",
     "text": [
      "Coal Slope: -0.6999999999999998\n",
      "Nuclear Slope: 0.12105263157894736\n",
      "Wind Slope: 0.5736842105263157\n",
      "Solar Slope: 0.5421052631578945\n"
     ]
    }
   ],
   "source": [
    "print(\"Coal Slope:\",slope_coal)\n",
    "print(\"Nuclear Slope:\",slope_nuclear)\n",
    "print(\"Wind Slope:\",slope_wind)\n",
    "print(\"Solar Slope:\",slope_solar)"
   ]
  },
  {
   "cell_type": "code",
   "execution_count": null,
   "metadata": {},
   "outputs": [],
   "source": []
  },
  {
   "cell_type": "code",
   "execution_count": null,
   "metadata": {},
   "outputs": [],
   "source": []
  }
 ],
 "metadata": {
  "kernelspec": {
   "display_name": "Python 3",
   "language": "python",
   "name": "python3"
  },
  "language_info": {
   "codemirror_mode": {
    "name": "ipython",
    "version": 3
   },
   "file_extension": ".py",
   "mimetype": "text/x-python",
   "name": "python",
   "nbconvert_exporter": "python",
   "pygments_lexer": "ipython3",
   "version": "3.8.3"
  }
 },
 "nbformat": 4,
 "nbformat_minor": 4
}
